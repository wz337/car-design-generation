{
 "cells": [
  {
   "cell_type": "code",
   "execution_count": null,
   "metadata": {},
   "outputs": [],
   "source": [
    "import pandas as pd\n",
    "import numpy as np\n",
    "import matplotlib.pyplot as plt\n",
    "import seaborn as sns\n",
    "import glob\n",
    "import urllib\n",
    "import cv2\n",
    "import re\n",
    "%matplotlib inline"
   ]
  },
  {
   "cell_type": "code",
   "execution_count": null,
   "metadata": {},
   "outputs": [],
   "source": [
    "path = r'../data/carmax'\n",
    "all_files = glob.glob(path + \"/*.xlsx\")\n",
    "li = []\n",
    "for filename in all_files:\n",
    "    df = pd.read_excel(filename, index_col=None, header=0)\n",
    "    if 'coupe' in filename:\n",
    "        df['type'] = 'coupe'\n",
    "    elif 'crossover' in filename:\n",
    "        df['type'] = 'crossover'\n",
    "    elif 'sedan' in filename:\n",
    "        df['type'] = 'sedan'\n",
    "    elif 'suv' in filename:\n",
    "        df['type'] = 'suv'\n",
    "    elif 'truck' in filename:\n",
    "        df['type'] = 'truck'\n",
    "    li.append(df)\n",
    "\n",
    "df = pd.concat(li, axis=0, ignore_index=True)"
   ]
  },
  {
   "cell_type": "code",
   "execution_count": null,
   "metadata": {},
   "outputs": [],
   "source": [
    "df.info()"
   ]
  },
  {
   "cell_type": "code",
   "execution_count": null,
   "metadata": {},
   "outputs": [],
   "source": [
    "df.head()"
   ]
  },
  {
   "cell_type": "code",
   "execution_count": null,
   "metadata": {},
   "outputs": [],
   "source": [
    "df = df.drop(np.array(df[df.src == 'x'].index))\n",
    "df = df.drop_duplicates()"
   ]
  },
  {
   "cell_type": "code",
   "execution_count": null,
   "metadata": {},
   "outputs": [],
   "source": [
    "df.info()"
   ]
  },
  {
   "cell_type": "code",
   "execution_count": null,
   "metadata": {},
   "outputs": [],
   "source": [
    "df[\"price\"] = df[\"price\"].apply(lambda x: int(re.sub(\"[^0-9]\", \"\", x)))"
   ]
  },
  {
   "cell_type": "code",
   "execution_count": null,
   "metadata": {},
   "outputs": [],
   "source": [
    "def miles_to_int(x):\n",
    "    if x == 'x':\n",
    "        x = '0'\n",
    "    x = x.replace('K', '000')\n",
    "    return int(re.sub(\"[^0-9]\", \"\", x))"
   ]
  },
  {
   "cell_type": "code",
   "execution_count": null,
   "metadata": {},
   "outputs": [],
   "source": [
    "df[\"mileage\"] = df[\"mileage\"].apply(lambda x: miles_to_int(x))"
   ]
  },
  {
   "cell_type": "code",
   "execution_count": null,
   "metadata": {},
   "outputs": [],
   "source": [
    "df[\"year\"] = df[\"model\"].apply(lambda x: int(x.split()[0]))"
   ]
  },
  {
   "cell_type": "code",
   "execution_count": null,
   "metadata": {},
   "outputs": [],
   "source": [
    "def get_make(x):\n",
    "    make_model = x.split('\\n')\n",
    "    make = make_model[0].split(' ', 1)[1]\n",
    "    return make\n",
    "\n",
    "def get_trim(x):\n",
    "    make_model = x.split('\\n')\n",
    "    return make_model[1]"
   ]
  },
  {
   "cell_type": "code",
   "execution_count": null,
   "metadata": {},
   "outputs": [],
   "source": [
    "df[\"make\"] = df[\"model\"].apply(lambda x: get_make(x))"
   ]
  },
  {
   "cell_type": "code",
   "execution_count": null,
   "metadata": {},
   "outputs": [],
   "source": [
    "df[\"trim\"] = df[\"model\"].apply(lambda x: get_trim(x))"
   ]
  },
  {
   "cell_type": "code",
   "execution_count": null,
   "metadata": {},
   "outputs": [],
   "source": [
    "df = df.reset_index().drop('index', axis=1)"
   ]
  },
  {
   "cell_type": "code",
   "execution_count": null,
   "metadata": {
    "scrolled": true
   },
   "outputs": [],
   "source": [
    "df.head()"
   ]
  },
  {
   "cell_type": "code",
   "execution_count": null,
   "metadata": {},
   "outputs": [],
   "source": [
    "df.iloc[641]['src']"
   ]
  },
  {
   "cell_type": "code",
   "execution_count": null,
   "metadata": {},
   "outputs": [],
   "source": [
    "from urllib.error import HTTPError, URLError\n",
    "import socket"
   ]
  },
  {
   "cell_type": "code",
   "execution_count": null,
   "metadata": {},
   "outputs": [],
   "source": [
    "urls = df.iloc[:]['src']"
   ]
  },
  {
   "cell_type": "code",
   "execution_count": null,
   "metadata": {},
   "outputs": [],
   "source": [
    "urls[10971:]"
   ]
  },
  {
   "cell_type": "code",
   "execution_count": null,
   "metadata": {},
   "outputs": [],
   "source": [
    "for i in range(10971, len(urls)):\n",
    "    print(urls[start])"
   ]
  },
  {
   "cell_type": "code",
   "execution_count": null,
   "metadata": {},
   "outputs": [],
   "source": [
    "import os"
   ]
  },
  {
   "cell_type": "code",
   "execution_count": null,
   "metadata": {},
   "outputs": [],
   "source": [
    "start_i = 0\n",
    "for i in range(10984, len(urls)):\n",
    "    cont = False\n",
    "    count = 0\n",
    "    while (not cont) and count < 10:\n",
    "        try:\n",
    "            img_file_path = os.path.join(\"../images/carmax/\"+ str(start_i + i) + \".jpg\")\n",
    "            if i > 10971:\n",
    "                print(img_file_path)\n",
    "                urllib.request.urlretrieve(urls[i], img_file_path)\n",
    "                print(urls[i])\n",
    "                cont = True\n",
    "        except (HTTPError, URLError) as error:\n",
    "            print(\"Error occurred at \" + str(i))\n",
    "            count += 1\n",
    "        "
   ]
  },
  {
   "cell_type": "code",
   "execution_count": null,
   "metadata": {},
   "outputs": [],
   "source": [
    "def is_original(image):\n",
    "    a = cv2.imread('../images/carmax/894.jpg')\n",
    "    b = cv2.imread(image)\n",
    "    try:\n",
    "        difference = cv2.subtract(a, b)    \n",
    "        result = not np.any(difference)\n",
    "        if result is True:\n",
    "            return 'sample'\n",
    "        else:\n",
    "            return 'original'\n",
    "    except:\n",
    "        try:\n",
    "            c = cv2.imread('../images/carmax/7751.jpg')\n",
    "            difference = cv2.subtract(c, b)    \n",
    "            result = not np.any(difference)\n",
    "            if result is True:\n",
    "                return 'sample'\n",
    "            else:\n",
    "                return 'original'\n",
    "        except:    \n",
    "            return 'original'"
   ]
  },
  {
   "cell_type": "code",
   "execution_count": null,
   "metadata": {},
   "outputs": [],
   "source": [
    "path = r'../images/carmax'\n",
    "all_files = glob.glob(path + \"/*.jpg\")\n",
    "originals = []\n",
    "for i in range(len(all_files)):\n",
    "    originals.append(is_original('../images/carmax/' + str(i) + '.jpg'))"
   ]
  },
  {
   "cell_type": "code",
   "execution_count": null,
   "metadata": {},
   "outputs": [],
   "source": [
    "df['image-type'] = originals"
   ]
  },
  {
   "cell_type": "code",
   "execution_count": null,
   "metadata": {},
   "outputs": [],
   "source": [
    "df[df['image-type'] == 'sample'].info()"
   ]
  },
  {
   "cell_type": "code",
   "execution_count": null,
   "metadata": {},
   "outputs": [],
   "source": [
    "from PIL import Image, ImageOps"
   ]
  },
  {
   "cell_type": "code",
   "execution_count": null,
   "metadata": {},
   "outputs": [],
   "source": [
    "desired_size = 128\n",
    "im_pth = \"../images/carmax/0.jpg\"\n",
    "im = Image.open(im_pth)\n",
    "old_size = im.size\n",
    "ratio = float(desired_size)/max(old_size)\n",
    "new_size = tuple([int(x*ratio) for x in old_size])\n",
    "im = im.resize(new_size, Image.ANTIALIAS)\n",
    "new_im = Image.new(\"RGB\", (desired_size, desired_size))\n",
    "new_im.paste(im, ((desired_size-new_size[0])//2,\n",
    "                    (desired_size-new_size[1])//2))\n",
    "new_im.save()"
   ]
  },
  {
   "cell_type": "markdown",
   "metadata": {},
   "source": [
    "The following is to extract objects from the image. Because this will take too long to do for 50000 images, we will skip this step"
   ]
  },
  {
   "cell_type": "code",
   "execution_count": null,
   "metadata": {},
   "outputs": [],
   "source": [
    "# from imageai.Detection import ObjectDetection\n",
    "# import os"
   ]
  },
  {
   "cell_type": "code",
   "execution_count": null,
   "metadata": {},
   "outputs": [],
   "source": [
    "# execution_path = os.getcwd()\n",
    "\n",
    "# detector = ObjectDetection()\n",
    "# detector.setModelTypeAsRetinaNet()\n",
    "# detector.setModelPath( os.path.join(execution_path , \"resnet50_coco_best_v2.0.1.h5\"))\n",
    "# detector.loadModel()\n",
    "# detections = detector.detectObjectsFromImage(input_image=os.path.join(execution_path , \"../images/carmax/4.jpg\"), output_image_path=os.path.join(execution_path , \"imagenew.jpg\"))\n",
    "\n",
    "# for eachObject in detections:\n",
    "#     print(eachObject[\"name\"] , \" : \" , eachObject[\"percentage_probability\"] )"
   ]
  },
  {
   "cell_type": "code",
   "execution_count": null,
   "metadata": {},
   "outputs": [],
   "source": [
    "df['model'] = 'undefined'"
   ]
  },
  {
   "cell_type": "code",
   "execution_count": null,
   "metadata": {},
   "outputs": [],
   "source": [
    "df.head()"
   ]
  },
  {
   "cell_type": "code",
   "execution_count": null,
   "metadata": {},
   "outputs": [],
   "source": [
    "df.info()"
   ]
  },
  {
   "cell_type": "code",
   "execution_count": null,
   "metadata": {},
   "outputs": [],
   "source": [
    "df.to_csv('../data/carmax_final_data.csv')"
   ]
  },
  {
   "cell_type": "code",
   "execution_count": null,
   "metadata": {},
   "outputs": [],
   "source": []
  }
 ],
 "metadata": {
  "kernelspec": {
   "display_name": "Python 3",
   "language": "python",
   "name": "python3"
  },
  "language_info": {
   "codemirror_mode": {
    "name": "ipython",
    "version": 3
   },
   "file_extension": ".py",
   "mimetype": "text/x-python",
   "name": "python",
   "nbconvert_exporter": "python",
   "pygments_lexer": "ipython3",
   "version": "3.7.4"
  }
 },
 "nbformat": 4,
 "nbformat_minor": 2
}
